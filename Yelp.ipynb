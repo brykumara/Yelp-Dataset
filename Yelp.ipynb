{
 "cells": [
  {
   "cell_type": "code",
   "execution_count": 1,
   "id": "7cffe0ec",
   "metadata": {},
   "outputs": [],
   "source": [
    "# Import necessary packages\n",
    "import matplotlib.pyplot as plt\n",
    "from numpy import genfromtxt\n",
    "import numpy as np\n",
    "import pandas as pd\n",
    "import csv\n",
    "import json\n",
    "import scipy.stats as stats\n",
    "import pylab as pl\n",
    "import statsmodels.api as sm\n",
    "import seaborn as sns\n",
    "import statistics\n",
    "from scipy.stats import entropy\n",
    "from astropy.stats import jackknife_resampling\n",
    "from astropy.stats import jackknife_stats\n",
    "import random\n",
    "from sklearn import preprocessing\n",
    "from scipy.stats import skew"
   ]
  },
  {
   "cell_type": "code",
   "execution_count": 2,
   "id": "7abc2d30",
   "metadata": {},
   "outputs": [
    {
     "data": {
      "text/html": [
       "<div>\n",
       "<style scoped>\n",
       "    .dataframe tbody tr th:only-of-type {\n",
       "        vertical-align: middle;\n",
       "    }\n",
       "\n",
       "    .dataframe tbody tr th {\n",
       "        vertical-align: top;\n",
       "    }\n",
       "\n",
       "    .dataframe thead th {\n",
       "        text-align: right;\n",
       "    }\n",
       "</style>\n",
       "<table border=\"1\" class=\"dataframe\">\n",
       "  <thead>\n",
       "    <tr style=\"text-align: right;\">\n",
       "      <th></th>\n",
       "      <th>business_id</th>\n",
       "      <th>name</th>\n",
       "      <th>address</th>\n",
       "      <th>city</th>\n",
       "      <th>state</th>\n",
       "      <th>postal_code</th>\n",
       "      <th>latitude</th>\n",
       "      <th>longitude</th>\n",
       "      <th>stars</th>\n",
       "      <th>review_count</th>\n",
       "      <th>is_open</th>\n",
       "      <th>attributes</th>\n",
       "      <th>categories</th>\n",
       "      <th>hours</th>\n",
       "    </tr>\n",
       "  </thead>\n",
       "  <tbody>\n",
       "    <tr>\n",
       "      <th>0</th>\n",
       "      <td>6iYb2HFDywm3zjuRg0shjw</td>\n",
       "      <td>Oskar Blues Taproom</td>\n",
       "      <td>921 Pearl St</td>\n",
       "      <td>Boulder</td>\n",
       "      <td>CO</td>\n",
       "      <td>80302</td>\n",
       "      <td>40.017544</td>\n",
       "      <td>-105.283348</td>\n",
       "      <td>4.0</td>\n",
       "      <td>86</td>\n",
       "      <td>1</td>\n",
       "      <td>{'RestaurantsTableService': 'True', 'WiFi': 'u...</td>\n",
       "      <td>Gastropubs, Food, Beer Gardens, Restaurants, B...</td>\n",
       "      <td>{'Monday': '11:0-23:0', 'Tuesday': '11:0-23:0'...</td>\n",
       "    </tr>\n",
       "    <tr>\n",
       "      <th>1</th>\n",
       "      <td>tCbdrRPZA0oiIYSmHG3J0w</td>\n",
       "      <td>Flying Elephants at PDX</td>\n",
       "      <td>7000 NE Airport Way</td>\n",
       "      <td>Portland</td>\n",
       "      <td>OR</td>\n",
       "      <td>97218</td>\n",
       "      <td>45.588906</td>\n",
       "      <td>-122.593331</td>\n",
       "      <td>4.0</td>\n",
       "      <td>126</td>\n",
       "      <td>1</td>\n",
       "      <td>{'RestaurantsTakeOut': 'True', 'RestaurantsAtt...</td>\n",
       "      <td>Salad, Soup, Sandwiches, Delis, Restaurants, C...</td>\n",
       "      <td>{'Monday': '5:0-18:0', 'Tuesday': '5:0-17:0', ...</td>\n",
       "    </tr>\n",
       "    <tr>\n",
       "      <th>2</th>\n",
       "      <td>bvN78flM8NLprQ1a1y5dRg</td>\n",
       "      <td>The Reclaimory</td>\n",
       "      <td>4720 Hawthorne Ave</td>\n",
       "      <td>Portland</td>\n",
       "      <td>OR</td>\n",
       "      <td>97214</td>\n",
       "      <td>45.511907</td>\n",
       "      <td>-122.613693</td>\n",
       "      <td>4.5</td>\n",
       "      <td>13</td>\n",
       "      <td>1</td>\n",
       "      <td>{'BusinessAcceptsCreditCards': 'True', 'Restau...</td>\n",
       "      <td>Antiques, Fashion, Used, Vintage &amp; Consignment...</td>\n",
       "      <td>{'Thursday': '11:0-18:0', 'Friday': '11:0-18:0...</td>\n",
       "    </tr>\n",
       "    <tr>\n",
       "      <th>3</th>\n",
       "      <td>oaepsyvc0J17qwi8cfrOWg</td>\n",
       "      <td>Great Clips</td>\n",
       "      <td>2566 Enterprise Rd</td>\n",
       "      <td>Orange City</td>\n",
       "      <td>FL</td>\n",
       "      <td>32763</td>\n",
       "      <td>28.914482</td>\n",
       "      <td>-81.295979</td>\n",
       "      <td>3.0</td>\n",
       "      <td>8</td>\n",
       "      <td>1</td>\n",
       "      <td>{'RestaurantsPriceRange2': '1', 'BusinessAccep...</td>\n",
       "      <td>Beauty &amp; Spas, Hair Salons</td>\n",
       "      <td>None</td>\n",
       "    </tr>\n",
       "    <tr>\n",
       "      <th>4</th>\n",
       "      <td>PE9uqAjdw0E4-8mjGl3wVA</td>\n",
       "      <td>Crossfit Terminus</td>\n",
       "      <td>1046 Memorial Dr SE</td>\n",
       "      <td>Atlanta</td>\n",
       "      <td>GA</td>\n",
       "      <td>30316</td>\n",
       "      <td>33.747027</td>\n",
       "      <td>-84.353424</td>\n",
       "      <td>4.0</td>\n",
       "      <td>14</td>\n",
       "      <td>1</td>\n",
       "      <td>{'GoodForKids': 'False', 'BusinessParking': '{...</td>\n",
       "      <td>Gyms, Active Life, Interval Training Gyms, Fit...</td>\n",
       "      <td>{'Monday': '16:0-19:0', 'Tuesday': '16:0-19:0'...</td>\n",
       "    </tr>\n",
       "    <tr>\n",
       "      <th>...</th>\n",
       "      <td>...</td>\n",
       "      <td>...</td>\n",
       "      <td>...</td>\n",
       "      <td>...</td>\n",
       "      <td>...</td>\n",
       "      <td>...</td>\n",
       "      <td>...</td>\n",
       "      <td>...</td>\n",
       "      <td>...</td>\n",
       "      <td>...</td>\n",
       "      <td>...</td>\n",
       "      <td>...</td>\n",
       "      <td>...</td>\n",
       "      <td>...</td>\n",
       "    </tr>\n",
       "    <tr>\n",
       "      <th>160580</th>\n",
       "      <td>D2mHoIDXx9N8mS1pGoKV9Q</td>\n",
       "      <td>Eleven Oaks Realty</td>\n",
       "      <td></td>\n",
       "      <td>Austin</td>\n",
       "      <td>TX</td>\n",
       "      <td>78701</td>\n",
       "      <td>30.272921</td>\n",
       "      <td>-97.744386</td>\n",
       "      <td>4.0</td>\n",
       "      <td>8</td>\n",
       "      <td>1</td>\n",
       "      <td>None</td>\n",
       "      <td>Real Estate, Real Estate Services, Home Servic...</td>\n",
       "      <td>{'Monday': '9:0-19:0', 'Tuesday': '9:0-19:0', ...</td>\n",
       "    </tr>\n",
       "    <tr>\n",
       "      <th>160581</th>\n",
       "      <td>bQX-kwVTyZgcdZGEPzce6Q</td>\n",
       "      <td>Webb's Honey</td>\n",
       "      <td>21777 State Rd 520</td>\n",
       "      <td>Orlando</td>\n",
       "      <td>FL</td>\n",
       "      <td>32833</td>\n",
       "      <td>28.499836</td>\n",
       "      <td>-81.047478</td>\n",
       "      <td>4.5</td>\n",
       "      <td>18</td>\n",
       "      <td>1</td>\n",
       "      <td>{'RestaurantsTakeOut': 'True', 'RestaurantsPri...</td>\n",
       "      <td>Health Markets, Food, Specialty Food, Grocery</td>\n",
       "      <td>{'Monday': '10:0-18:0', 'Tuesday': '10:0-18:0'...</td>\n",
       "    </tr>\n",
       "    <tr>\n",
       "      <th>160582</th>\n",
       "      <td>wvFZ06nmPmQ2-IVoPqVYLA</td>\n",
       "      <td>Painting with a Twist</td>\n",
       "      <td>2164 S Chickasaw Trl</td>\n",
       "      <td>Orlando</td>\n",
       "      <td>FL</td>\n",
       "      <td>32825</td>\n",
       "      <td>28.511615</td>\n",
       "      <td>-81.270020</td>\n",
       "      <td>5.0</td>\n",
       "      <td>8</td>\n",
       "      <td>0</td>\n",
       "      <td>{'DogsAllowed': 'False', 'ByAppointmentOnly': ...</td>\n",
       "      <td>Arts &amp; Entertainment, Paint &amp; Sip, Art Classes...</td>\n",
       "      <td>{'Monday': '0:0-0:0', 'Wednesday': '12:0-17:0'...</td>\n",
       "    </tr>\n",
       "    <tr>\n",
       "      <th>160583</th>\n",
       "      <td>GB75wPibj3IjNauaoCxyGA</td>\n",
       "      <td>Havana Cafe</td>\n",
       "      <td>910 NW 14th St</td>\n",
       "      <td>Portland</td>\n",
       "      <td>OR</td>\n",
       "      <td>97209</td>\n",
       "      <td>45.529647</td>\n",
       "      <td>-122.685153</td>\n",
       "      <td>4.0</td>\n",
       "      <td>10</td>\n",
       "      <td>1</td>\n",
       "      <td>{'RestaurantsTakeOut': 'True', 'RestaurantsDel...</td>\n",
       "      <td>Cuban, Sandwiches, Restaurants, Cafes</td>\n",
       "      <td>None</td>\n",
       "    </tr>\n",
       "    <tr>\n",
       "      <th>160584</th>\n",
       "      <td>ngmLL5Y5OT-bYHKU0kKrYA</td>\n",
       "      <td>Zora Grille</td>\n",
       "      <td>1370 E Altamonte Dr</td>\n",
       "      <td>Altamonte Springs</td>\n",
       "      <td>FL</td>\n",
       "      <td>32701</td>\n",
       "      <td>28.663047</td>\n",
       "      <td>-81.346728</td>\n",
       "      <td>4.5</td>\n",
       "      <td>82</td>\n",
       "      <td>0</td>\n",
       "      <td>{'RestaurantsReservations': 'True', 'OutdoorSe...</td>\n",
       "      <td>Restaurants, Middle Eastern, Mediterranean, Pe...</td>\n",
       "      <td>{'Tuesday': '17:0-21:0', 'Wednesday': '17:0-21...</td>\n",
       "    </tr>\n",
       "  </tbody>\n",
       "</table>\n",
       "<p>160585 rows × 14 columns</p>\n",
       "</div>"
      ],
      "text/plain": [
       "                   business_id                     name               address  \\\n",
       "0       6iYb2HFDywm3zjuRg0shjw      Oskar Blues Taproom          921 Pearl St   \n",
       "1       tCbdrRPZA0oiIYSmHG3J0w  Flying Elephants at PDX   7000 NE Airport Way   \n",
       "2       bvN78flM8NLprQ1a1y5dRg           The Reclaimory    4720 Hawthorne Ave   \n",
       "3       oaepsyvc0J17qwi8cfrOWg              Great Clips    2566 Enterprise Rd   \n",
       "4       PE9uqAjdw0E4-8mjGl3wVA        Crossfit Terminus   1046 Memorial Dr SE   \n",
       "...                        ...                      ...                   ...   \n",
       "160580  D2mHoIDXx9N8mS1pGoKV9Q       Eleven Oaks Realty                         \n",
       "160581  bQX-kwVTyZgcdZGEPzce6Q             Webb's Honey    21777 State Rd 520   \n",
       "160582  wvFZ06nmPmQ2-IVoPqVYLA    Painting with a Twist  2164 S Chickasaw Trl   \n",
       "160583  GB75wPibj3IjNauaoCxyGA              Havana Cafe        910 NW 14th St   \n",
       "160584  ngmLL5Y5OT-bYHKU0kKrYA              Zora Grille   1370 E Altamonte Dr   \n",
       "\n",
       "                     city state postal_code   latitude   longitude  stars  \\\n",
       "0                 Boulder    CO       80302  40.017544 -105.283348    4.0   \n",
       "1                Portland    OR       97218  45.588906 -122.593331    4.0   \n",
       "2                Portland    OR       97214  45.511907 -122.613693    4.5   \n",
       "3             Orange City    FL       32763  28.914482  -81.295979    3.0   \n",
       "4                 Atlanta    GA       30316  33.747027  -84.353424    4.0   \n",
       "...                   ...   ...         ...        ...         ...    ...   \n",
       "160580             Austin    TX       78701  30.272921  -97.744386    4.0   \n",
       "160581            Orlando    FL       32833  28.499836  -81.047478    4.5   \n",
       "160582            Orlando    FL       32825  28.511615  -81.270020    5.0   \n",
       "160583           Portland    OR       97209  45.529647 -122.685153    4.0   \n",
       "160584  Altamonte Springs    FL       32701  28.663047  -81.346728    4.5   \n",
       "\n",
       "        review_count  is_open  \\\n",
       "0                 86        1   \n",
       "1                126        1   \n",
       "2                 13        1   \n",
       "3                  8        1   \n",
       "4                 14        1   \n",
       "...              ...      ...   \n",
       "160580             8        1   \n",
       "160581            18        1   \n",
       "160582             8        0   \n",
       "160583            10        1   \n",
       "160584            82        0   \n",
       "\n",
       "                                               attributes  \\\n",
       "0       {'RestaurantsTableService': 'True', 'WiFi': 'u...   \n",
       "1       {'RestaurantsTakeOut': 'True', 'RestaurantsAtt...   \n",
       "2       {'BusinessAcceptsCreditCards': 'True', 'Restau...   \n",
       "3       {'RestaurantsPriceRange2': '1', 'BusinessAccep...   \n",
       "4       {'GoodForKids': 'False', 'BusinessParking': '{...   \n",
       "...                                                   ...   \n",
       "160580                                               None   \n",
       "160581  {'RestaurantsTakeOut': 'True', 'RestaurantsPri...   \n",
       "160582  {'DogsAllowed': 'False', 'ByAppointmentOnly': ...   \n",
       "160583  {'RestaurantsTakeOut': 'True', 'RestaurantsDel...   \n",
       "160584  {'RestaurantsReservations': 'True', 'OutdoorSe...   \n",
       "\n",
       "                                               categories  \\\n",
       "0       Gastropubs, Food, Beer Gardens, Restaurants, B...   \n",
       "1       Salad, Soup, Sandwiches, Delis, Restaurants, C...   \n",
       "2       Antiques, Fashion, Used, Vintage & Consignment...   \n",
       "3                              Beauty & Spas, Hair Salons   \n",
       "4       Gyms, Active Life, Interval Training Gyms, Fit...   \n",
       "...                                                   ...   \n",
       "160580  Real Estate, Real Estate Services, Home Servic...   \n",
       "160581      Health Markets, Food, Specialty Food, Grocery   \n",
       "160582  Arts & Entertainment, Paint & Sip, Art Classes...   \n",
       "160583              Cuban, Sandwiches, Restaurants, Cafes   \n",
       "160584  Restaurants, Middle Eastern, Mediterranean, Pe...   \n",
       "\n",
       "                                                    hours  \n",
       "0       {'Monday': '11:0-23:0', 'Tuesday': '11:0-23:0'...  \n",
       "1       {'Monday': '5:0-18:0', 'Tuesday': '5:0-17:0', ...  \n",
       "2       {'Thursday': '11:0-18:0', 'Friday': '11:0-18:0...  \n",
       "3                                                    None  \n",
       "4       {'Monday': '16:0-19:0', 'Tuesday': '16:0-19:0'...  \n",
       "...                                                   ...  \n",
       "160580  {'Monday': '9:0-19:0', 'Tuesday': '9:0-19:0', ...  \n",
       "160581  {'Monday': '10:0-18:0', 'Tuesday': '10:0-18:0'...  \n",
       "160582  {'Monday': '0:0-0:0', 'Wednesday': '12:0-17:0'...  \n",
       "160583                                               None  \n",
       "160584  {'Tuesday': '17:0-21:0', 'Wednesday': '17:0-21...  \n",
       "\n",
       "[160585 rows x 14 columns]"
      ]
     },
     "execution_count": 2,
     "metadata": {},
     "output_type": "execute_result"
    }
   ],
   "source": [
    "# Read and print .json file\n",
    "df = pd.read_json('/Users/bryankumara/Downloads/yelp_academic_dataset_business.json',lines=True)\n",
    "df"
   ]
  },
  {
   "cell_type": "code",
   "execution_count": 3,
   "id": "a5c08ac9",
   "metadata": {},
   "outputs": [
    {
     "data": {
      "text/html": [
       "<div>\n",
       "<style scoped>\n",
       "    .dataframe tbody tr th:only-of-type {\n",
       "        vertical-align: middle;\n",
       "    }\n",
       "\n",
       "    .dataframe tbody tr th {\n",
       "        vertical-align: top;\n",
       "    }\n",
       "\n",
       "    .dataframe thead th {\n",
       "        text-align: right;\n",
       "    }\n",
       "</style>\n",
       "<table border=\"1\" class=\"dataframe\">\n",
       "  <thead>\n",
       "    <tr style=\"text-align: right;\">\n",
       "      <th></th>\n",
       "      <th>business_id</th>\n",
       "      <th>name</th>\n",
       "      <th>address</th>\n",
       "      <th>city</th>\n",
       "      <th>state</th>\n",
       "      <th>postal_code</th>\n",
       "      <th>latitude</th>\n",
       "      <th>longitude</th>\n",
       "      <th>stars</th>\n",
       "      <th>review_count</th>\n",
       "      <th>is_open</th>\n",
       "      <th>attributes</th>\n",
       "      <th>categories</th>\n",
       "      <th>hours</th>\n",
       "    </tr>\n",
       "  </thead>\n",
       "  <tbody>\n",
       "    <tr>\n",
       "      <th>218</th>\n",
       "      <td>ZaMMUcOIngBCgxuKxFzfqg</td>\n",
       "      <td>McDonald's</td>\n",
       "      <td>1524 Georgesville Rd</td>\n",
       "      <td>Columbus</td>\n",
       "      <td>OH</td>\n",
       "      <td>43228</td>\n",
       "      <td>39.919976</td>\n",
       "      <td>-83.125822</td>\n",
       "      <td>2.0</td>\n",
       "      <td>25</td>\n",
       "      <td>1</td>\n",
       "      <td>{'RestaurantsTakeOut': 'True', 'NoiseLevel': '...</td>\n",
       "      <td>Fast Food, Restaurants, Food, Coffee &amp; Tea, Bu...</td>\n",
       "      <td>{'Monday': '0:0-0:0', 'Tuesday': '0:0-0:0', 'W...</td>\n",
       "    </tr>\n",
       "    <tr>\n",
       "      <th>253</th>\n",
       "      <td>Ieelu69Y23nbjKG3OGfwnw</td>\n",
       "      <td>McDonald's</td>\n",
       "      <td>5017 Hwy 290 W</td>\n",
       "      <td>Austin</td>\n",
       "      <td>TX</td>\n",
       "      <td>78735</td>\n",
       "      <td>30.232133</td>\n",
       "      <td>-97.823183</td>\n",
       "      <td>1.5</td>\n",
       "      <td>9</td>\n",
       "      <td>1</td>\n",
       "      <td>{'RestaurantsTakeOut': 'True', 'RestaurantsRes...</td>\n",
       "      <td>Restaurants, Coffee &amp; Tea, Food, Burgers, Fast...</td>\n",
       "      <td>{'Monday': '7:0-22:30', 'Tuesday': '7:0-22:30'...</td>\n",
       "    </tr>\n",
       "    <tr>\n",
       "      <th>349</th>\n",
       "      <td>aoH2NWs312ES--8bJTDJEw</td>\n",
       "      <td>McDonald's</td>\n",
       "      <td>127 Broadway</td>\n",
       "      <td>Saugus</td>\n",
       "      <td>MA</td>\n",
       "      <td>01906</td>\n",
       "      <td>42.495702</td>\n",
       "      <td>-71.016722</td>\n",
       "      <td>3.0</td>\n",
       "      <td>27</td>\n",
       "      <td>1</td>\n",
       "      <td>{'RestaurantsReservations': 'False', 'GoodForK...</td>\n",
       "      <td>Coffee &amp; Tea, Fast Food, Restaurants, Food, Bu...</td>\n",
       "      <td>{'Monday': '6:0-23:0', 'Tuesday': '6:0-23:0', ...</td>\n",
       "    </tr>\n",
       "    <tr>\n",
       "      <th>449</th>\n",
       "      <td>Dz3GF5EvC3kzM-Jf_nLCDw</td>\n",
       "      <td>McDonald's</td>\n",
       "      <td>12109 NE Glisan St</td>\n",
       "      <td>Portland</td>\n",
       "      <td>OR</td>\n",
       "      <td>97220</td>\n",
       "      <td>45.526686</td>\n",
       "      <td>-122.538261</td>\n",
       "      <td>1.5</td>\n",
       "      <td>37</td>\n",
       "      <td>1</td>\n",
       "      <td>{'BusinessAcceptsCreditCards': 'True', 'Restau...</td>\n",
       "      <td>Coffee &amp; Tea, Restaurants, Fast Food, Burgers,...</td>\n",
       "      <td>{'Monday': '0:0-0:0', 'Tuesday': '0:0-0:0', 'W...</td>\n",
       "    </tr>\n",
       "    <tr>\n",
       "      <th>483</th>\n",
       "      <td>E4ejoHJHIOvVhkca3kWRuQ</td>\n",
       "      <td>McDonald's</td>\n",
       "      <td>2875 SE Powell Blvd</td>\n",
       "      <td>Portland</td>\n",
       "      <td>OR</td>\n",
       "      <td>97202</td>\n",
       "      <td>45.497746</td>\n",
       "      <td>-122.636072</td>\n",
       "      <td>2.0</td>\n",
       "      <td>77</td>\n",
       "      <td>1</td>\n",
       "      <td>{'NoiseLevel': 'u'average'', 'BusinessAcceptsC...</td>\n",
       "      <td>Food, Fast Food, Restaurants, Coffee &amp; Tea, Bu...</td>\n",
       "      <td>{'Monday': '5:0-1:0', 'Tuesday': '5:0-1:0', 'W...</td>\n",
       "    </tr>\n",
       "    <tr>\n",
       "      <th>...</th>\n",
       "      <td>...</td>\n",
       "      <td>...</td>\n",
       "      <td>...</td>\n",
       "      <td>...</td>\n",
       "      <td>...</td>\n",
       "      <td>...</td>\n",
       "      <td>...</td>\n",
       "      <td>...</td>\n",
       "      <td>...</td>\n",
       "      <td>...</td>\n",
       "      <td>...</td>\n",
       "      <td>...</td>\n",
       "      <td>...</td>\n",
       "      <td>...</td>\n",
       "    </tr>\n",
       "    <tr>\n",
       "      <th>159823</th>\n",
       "      <td>ieIMK7tAq9GuqQRzqM-xZA</td>\n",
       "      <td>McDonald's</td>\n",
       "      <td>180 Endicott St</td>\n",
       "      <td>Danvers</td>\n",
       "      <td>MA</td>\n",
       "      <td>01923</td>\n",
       "      <td>42.547904</td>\n",
       "      <td>-70.941543</td>\n",
       "      <td>2.5</td>\n",
       "      <td>20</td>\n",
       "      <td>1</td>\n",
       "      <td>{'BusinessAcceptsCreditCards': 'True', 'Restau...</td>\n",
       "      <td>Burgers, Coffee &amp; Tea, Restaurants, Food, Fast...</td>\n",
       "      <td>{'Monday': '6:0-23:0', 'Tuesday': '6:0-23:0', ...</td>\n",
       "    </tr>\n",
       "    <tr>\n",
       "      <th>159931</th>\n",
       "      <td>078eaXgiwUiJRYezr1EFoA</td>\n",
       "      <td>McDonald's</td>\n",
       "      <td>5090 Groveport Rd</td>\n",
       "      <td>Obetz</td>\n",
       "      <td>OH</td>\n",
       "      <td>43207</td>\n",
       "      <td>39.868639</td>\n",
       "      <td>-82.935581</td>\n",
       "      <td>2.0</td>\n",
       "      <td>10</td>\n",
       "      <td>1</td>\n",
       "      <td>{'GoodForKids': 'True', 'RestaurantsReservatio...</td>\n",
       "      <td>Food, Fast Food, Coffee &amp; Tea, Burgers, Restau...</td>\n",
       "      <td>{'Monday': '0:0-0:0', 'Tuesday': '0:0-0:0', 'W...</td>\n",
       "    </tr>\n",
       "    <tr>\n",
       "      <th>159957</th>\n",
       "      <td>LN_ssD4Fb7Y5SVcMRDd6oQ</td>\n",
       "      <td>McDonald's</td>\n",
       "      <td>1200 Lynn Valley Road</td>\n",
       "      <td>North Vancouver</td>\n",
       "      <td>BC</td>\n",
       "      <td>V7J 2A2</td>\n",
       "      <td>49.335963</td>\n",
       "      <td>-123.040953</td>\n",
       "      <td>1.5</td>\n",
       "      <td>9</td>\n",
       "      <td>1</td>\n",
       "      <td>{'RestaurantsGoodForGroups': 'True', 'Restaura...</td>\n",
       "      <td>Restaurants, Fast Food, Burgers, Coffee &amp; Tea,...</td>\n",
       "      <td>{'Monday': '4:30-0:0', 'Tuesday': '4:30-0:0', ...</td>\n",
       "    </tr>\n",
       "    <tr>\n",
       "      <th>160241</th>\n",
       "      <td>W1Oaq9zBBAXf_eIIVjmpzg</td>\n",
       "      <td>McDonald's</td>\n",
       "      <td>912 Mlk Jr Dr</td>\n",
       "      <td>Atlanta</td>\n",
       "      <td>GA</td>\n",
       "      <td>30314</td>\n",
       "      <td>33.754266</td>\n",
       "      <td>-84.417213</td>\n",
       "      <td>1.0</td>\n",
       "      <td>8</td>\n",
       "      <td>0</td>\n",
       "      <td>{'BusinessAcceptsCreditCards': 'True', 'Restau...</td>\n",
       "      <td>Coffee &amp; Tea, Restaurants, Fast Food, Food, Bu...</td>\n",
       "      <td>{'Monday': '5:30-0:0', 'Tuesday': '5:30-0:0', ...</td>\n",
       "    </tr>\n",
       "    <tr>\n",
       "      <th>160292</th>\n",
       "      <td>kacR2t7LkUdM62DvpSLhrw</td>\n",
       "      <td>McDonald's</td>\n",
       "      <td>3636 W Broad St</td>\n",
       "      <td>Columbus</td>\n",
       "      <td>OH</td>\n",
       "      <td>43228</td>\n",
       "      <td>39.954292</td>\n",
       "      <td>-83.098026</td>\n",
       "      <td>1.0</td>\n",
       "      <td>5</td>\n",
       "      <td>1</td>\n",
       "      <td>{'RestaurantsGoodForGroups': 'True', 'Restaura...</td>\n",
       "      <td>Coffee &amp; Tea, Burgers, American (Traditional),...</td>\n",
       "      <td>{'Monday': '5:0-23:0', 'Tuesday': '5:0-23:0', ...</td>\n",
       "    </tr>\n",
       "  </tbody>\n",
       "</table>\n",
       "<p>525 rows × 14 columns</p>\n",
       "</div>"
      ],
      "text/plain": [
       "                   business_id        name                address  \\\n",
       "218     ZaMMUcOIngBCgxuKxFzfqg  McDonald's   1524 Georgesville Rd   \n",
       "253     Ieelu69Y23nbjKG3OGfwnw  McDonald's         5017 Hwy 290 W   \n",
       "349     aoH2NWs312ES--8bJTDJEw  McDonald's           127 Broadway   \n",
       "449     Dz3GF5EvC3kzM-Jf_nLCDw  McDonald's     12109 NE Glisan St   \n",
       "483     E4ejoHJHIOvVhkca3kWRuQ  McDonald's    2875 SE Powell Blvd   \n",
       "...                        ...         ...                    ...   \n",
       "159823  ieIMK7tAq9GuqQRzqM-xZA  McDonald's        180 Endicott St   \n",
       "159931  078eaXgiwUiJRYezr1EFoA  McDonald's      5090 Groveport Rd   \n",
       "159957  LN_ssD4Fb7Y5SVcMRDd6oQ  McDonald's  1200 Lynn Valley Road   \n",
       "160241  W1Oaq9zBBAXf_eIIVjmpzg  McDonald's          912 Mlk Jr Dr   \n",
       "160292  kacR2t7LkUdM62DvpSLhrw  McDonald's        3636 W Broad St   \n",
       "\n",
       "                   city state postal_code   latitude   longitude  stars  \\\n",
       "218            Columbus    OH       43228  39.919976  -83.125822    2.0   \n",
       "253              Austin    TX       78735  30.232133  -97.823183    1.5   \n",
       "349              Saugus    MA       01906  42.495702  -71.016722    3.0   \n",
       "449            Portland    OR       97220  45.526686 -122.538261    1.5   \n",
       "483            Portland    OR       97202  45.497746 -122.636072    2.0   \n",
       "...                 ...   ...         ...        ...         ...    ...   \n",
       "159823          Danvers    MA       01923  42.547904  -70.941543    2.5   \n",
       "159931            Obetz    OH       43207  39.868639  -82.935581    2.0   \n",
       "159957  North Vancouver    BC     V7J 2A2  49.335963 -123.040953    1.5   \n",
       "160241          Atlanta    GA       30314  33.754266  -84.417213    1.0   \n",
       "160292         Columbus    OH       43228  39.954292  -83.098026    1.0   \n",
       "\n",
       "        review_count  is_open  \\\n",
       "218               25        1   \n",
       "253                9        1   \n",
       "349               27        1   \n",
       "449               37        1   \n",
       "483               77        1   \n",
       "...              ...      ...   \n",
       "159823            20        1   \n",
       "159931            10        1   \n",
       "159957             9        1   \n",
       "160241             8        0   \n",
       "160292             5        1   \n",
       "\n",
       "                                               attributes  \\\n",
       "218     {'RestaurantsTakeOut': 'True', 'NoiseLevel': '...   \n",
       "253     {'RestaurantsTakeOut': 'True', 'RestaurantsRes...   \n",
       "349     {'RestaurantsReservations': 'False', 'GoodForK...   \n",
       "449     {'BusinessAcceptsCreditCards': 'True', 'Restau...   \n",
       "483     {'NoiseLevel': 'u'average'', 'BusinessAcceptsC...   \n",
       "...                                                   ...   \n",
       "159823  {'BusinessAcceptsCreditCards': 'True', 'Restau...   \n",
       "159931  {'GoodForKids': 'True', 'RestaurantsReservatio...   \n",
       "159957  {'RestaurantsGoodForGroups': 'True', 'Restaura...   \n",
       "160241  {'BusinessAcceptsCreditCards': 'True', 'Restau...   \n",
       "160292  {'RestaurantsGoodForGroups': 'True', 'Restaura...   \n",
       "\n",
       "                                               categories  \\\n",
       "218     Fast Food, Restaurants, Food, Coffee & Tea, Bu...   \n",
       "253     Restaurants, Coffee & Tea, Food, Burgers, Fast...   \n",
       "349     Coffee & Tea, Fast Food, Restaurants, Food, Bu...   \n",
       "449     Coffee & Tea, Restaurants, Fast Food, Burgers,...   \n",
       "483     Food, Fast Food, Restaurants, Coffee & Tea, Bu...   \n",
       "...                                                   ...   \n",
       "159823  Burgers, Coffee & Tea, Restaurants, Food, Fast...   \n",
       "159931  Food, Fast Food, Coffee & Tea, Burgers, Restau...   \n",
       "159957  Restaurants, Fast Food, Burgers, Coffee & Tea,...   \n",
       "160241  Coffee & Tea, Restaurants, Fast Food, Food, Bu...   \n",
       "160292  Coffee & Tea, Burgers, American (Traditional),...   \n",
       "\n",
       "                                                    hours  \n",
       "218     {'Monday': '0:0-0:0', 'Tuesday': '0:0-0:0', 'W...  \n",
       "253     {'Monday': '7:0-22:30', 'Tuesday': '7:0-22:30'...  \n",
       "349     {'Monday': '6:0-23:0', 'Tuesday': '6:0-23:0', ...  \n",
       "449     {'Monday': '0:0-0:0', 'Tuesday': '0:0-0:0', 'W...  \n",
       "483     {'Monday': '5:0-1:0', 'Tuesday': '5:0-1:0', 'W...  \n",
       "...                                                   ...  \n",
       "159823  {'Monday': '6:0-23:0', 'Tuesday': '6:0-23:0', ...  \n",
       "159931  {'Monday': '0:0-0:0', 'Tuesday': '0:0-0:0', 'W...  \n",
       "159957  {'Monday': '4:30-0:0', 'Tuesday': '4:30-0:0', ...  \n",
       "160241  {'Monday': '5:30-0:0', 'Tuesday': '5:30-0:0', ...  \n",
       "160292  {'Monday': '5:0-23:0', 'Tuesday': '5:0-23:0', ...  \n",
       "\n",
       "[525 rows x 14 columns]"
      ]
     },
     "execution_count": 3,
     "metadata": {},
     "output_type": "execute_result"
    }
   ],
   "source": [
    "# Filter dataset to show only McDonald's across North America\n",
    "df = df[(df.city != \"Edinburgh\") & (df.name == \"McDonald's\")] \n",
    "df"
   ]
  },
  {
   "cell_type": "code",
   "execution_count": 4,
   "id": "af7b41c1",
   "metadata": {},
   "outputs": [
    {
     "data": {
      "text/plain": [
       "218       ZaMMUcOIngBCgxuKxFzfqg\n",
       "253       Ieelu69Y23nbjKG3OGfwnw\n",
       "349       aoH2NWs312ES--8bJTDJEw\n",
       "449       Dz3GF5EvC3kzM-Jf_nLCDw\n",
       "483       E4ejoHJHIOvVhkca3kWRuQ\n",
       "                   ...          \n",
       "159823    ieIMK7tAq9GuqQRzqM-xZA\n",
       "159931    078eaXgiwUiJRYezr1EFoA\n",
       "159957    LN_ssD4Fb7Y5SVcMRDd6oQ\n",
       "160241    W1Oaq9zBBAXf_eIIVjmpzg\n",
       "160292    kacR2t7LkUdM62DvpSLhrw\n",
       "Name: business_id, Length: 525, dtype: object"
      ]
     },
     "execution_count": 4,
     "metadata": {},
     "output_type": "execute_result"
    }
   ],
   "source": [
    "# Gather relevant business ID\n",
    "x = df[\"business_id\"]\n",
    "x"
   ]
  },
  {
   "cell_type": "code",
   "execution_count": 5,
   "id": "b4d50355",
   "metadata": {},
   "outputs": [
    {
     "data": {
      "text/plain": [
       "218       2.0\n",
       "253       1.5\n",
       "349       3.0\n",
       "449       1.5\n",
       "483       2.0\n",
       "         ... \n",
       "159823    2.5\n",
       "159931    2.0\n",
       "159957    1.5\n",
       "160241    1.0\n",
       "160292    1.0\n",
       "Name: stars, Length: 525, dtype: float64"
      ]
     },
     "execution_count": 5,
     "metadata": {},
     "output_type": "execute_result"
    }
   ],
   "source": [
    "# Create a list of McDonald's ratings across North America\n",
    "y = df[\"stars\"]\n",
    "y"
   ]
  },
  {
   "cell_type": "code",
   "execution_count": 6,
   "id": "552251bb",
   "metadata": {},
   "outputs": [
    {
     "data": {
      "text/plain": [
       "array([2. , 1.5, 3. , 1.5, 2. , 2. , 2.5, 2. , 2.5, 1.5, 2.5, 2. , 2. ,\n",
       "       1. , 1.5, 2.5, 1.5, 2. , 1. , 3. , 2.5, 2.5, 2.5, 2. , 2. , 1.5,\n",
       "       1.5, 1.5, 1.5, 2. , 1.5, 1.5, 1.5, 1.5, 2. , 1. , 2. , 2.5, 2. ,\n",
       "       2. , 2.5, 2. , 2. , 2. , 3.5, 2. , 2. , 1.5, 1.5, 2.5, 2.5, 1.5,\n",
       "       1.5, 1.5, 2. , 1.5, 3. , 2. , 1.5, 1.5, 1.5, 2.5, 2. , 1. , 1.5,\n",
       "       1.5, 2. , 1. , 2. , 1.5, 1.5, 2.5, 1.5, 2. , 1. , 2. , 2. , 1.5,\n",
       "       1.5, 2.5, 1.5, 2. , 2. , 3. , 2. , 1.5, 1. , 2.5, 1.5, 3. , 3. ,\n",
       "       2. , 2. , 2. , 1.5, 3. , 2.5, 2. , 1.5, 2.5, 1.5, 1.5, 2. , 1.5,\n",
       "       2. , 1.5, 2. , 3. , 2. , 1. , 1.5, 1.5, 2. , 2. , 1.5, 1.5, 2. ,\n",
       "       2. , 1. , 1.5, 1. , 3. , 2.5, 2.5, 2.5, 1.5, 1.5, 1. , 2.5, 1.5,\n",
       "       2. , 2. , 1.5, 2.5, 2.5, 3. , 2. , 2. , 3. , 2. , 2. , 2. , 1.5,\n",
       "       3.5, 2.5, 1. , 2. , 1. , 3. , 2.5, 1.5, 3. , 1.5, 2. , 2. , 1.5,\n",
       "       2. , 2.5, 1.5, 1.5, 2.5, 1.5, 2. , 1. , 2.5, 2.5, 2. , 2.5, 2. ,\n",
       "       3. , 3. , 1.5, 2. , 2.5, 3. , 1. , 3. , 3. , 2.5, 1. , 1.5, 2. ,\n",
       "       1. , 2.5, 1.5, 2.5, 1.5, 1.5, 1.5, 2. , 2. , 2.5, 2. , 2. , 2. ,\n",
       "       1.5, 2.5, 2.5, 2.5, 2.5, 3. , 1.5, 1.5, 3. , 3.5, 1.5, 2. , 2. ,\n",
       "       2. , 2.5, 1.5, 1.5, 2. , 1.5, 1.5, 2. , 2. , 2.5, 2. , 2.5, 1.5,\n",
       "       2. , 3. , 3. , 2.5, 1.5, 2. , 1.5, 1.5, 1.5, 2.5, 2.5, 2. , 2. ,\n",
       "       1.5, 2. , 2. , 1.5, 2. , 1.5, 3. , 1.5, 2. , 1.5, 1. , 2. , 2. ,\n",
       "       2. , 1.5, 2. , 1.5, 1.5, 2. , 2. , 2. , 2. , 2. , 1.5, 2.5, 1.5,\n",
       "       2. , 2. , 2.5, 1. , 2. , 2. , 2. , 2.5, 3. , 1.5, 1.5, 1. , 2. ,\n",
       "       2. , 2. , 2. , 1.5, 2. , 2. , 1.5, 2. , 2. , 1.5, 1.5, 2. , 1.5,\n",
       "       1. , 1.5, 1. , 2. , 1.5, 1. , 2. , 2. , 1.5, 2. , 2. , 3. , 2.5,\n",
       "       2. , 1.5, 2. , 2. , 2. , 1.5, 2. , 2. , 1.5, 2.5, 1.5, 2.5, 1.5,\n",
       "       2.5, 1.5, 1.5, 2. , 2.5, 2. , 2. , 1.5, 2.5, 1.5, 1.5, 2. , 2.5,\n",
       "       1.5, 2. , 3.5, 3.5, 2. , 2.5, 2. , 2.5, 1.5, 2. , 2. , 2. , 1.5,\n",
       "       2. , 2. , 1.5, 1.5, 2. , 2. , 2. , 2.5, 1.5, 2. , 3. , 2. , 1. ,\n",
       "       2. , 2. , 3. , 2. , 2. , 1.5, 1.5, 1.5, 3. , 2.5, 2.5, 1. , 2. ,\n",
       "       2. , 2.5, 1.5, 3. , 2. , 1.5, 2. , 2. , 2.5, 2. , 2. , 2. , 1.5,\n",
       "       3. , 1.5, 2. , 2. , 1.5, 1. , 1.5, 1.5, 1. , 2.5, 2.5, 1.5, 1.5,\n",
       "       1.5, 2. , 2. , 2. , 1.5, 1.5, 2.5, 3. , 2. , 2. , 2. , 1.5, 2.5,\n",
       "       2. , 1.5, 2. , 2. , 2. , 1.5, 2.5, 2.5, 1.5, 1. , 1.5, 2.5, 2.5,\n",
       "       2. , 2. , 3. , 2. , 2.5, 1.5, 1. , 2. , 2. , 1.5, 2. , 2. , 2. ,\n",
       "       1.5, 1.5, 2. , 3. , 1.5, 2. , 2.5, 2. , 2.5, 2.5, 3. , 2. , 3. ,\n",
       "       2. , 2.5, 1.5, 1.5, 2.5, 2. , 2.5, 2.5, 2. , 1.5, 1. , 2. , 2. ,\n",
       "       3. , 2. , 2. , 2. , 2. , 2. , 1.5, 2. , 2.5, 2. , 3. , 2.5, 2. ,\n",
       "       2. , 2. , 3. , 2. , 2. , 2.5, 1.5, 1.5, 2. , 2. , 2.5, 2. , 2. ,\n",
       "       3. , 2. , 2.5, 1.5, 2. , 2. , 1.5, 2.5, 1.5, 2. , 3. , 2. , 1.5,\n",
       "       1.5, 1.5, 2. , 1.5, 2. , 2.5, 1. , 1. , 2. , 1.5, 2. , 2. , 2. ,\n",
       "       2. , 1.5, 2. , 2. , 1.5, 2. , 2. , 1.5, 1. , 2.5, 2. , 1.5, 1.5,\n",
       "       2.5, 2. , 1.5, 1. , 1. ])"
      ]
     },
     "execution_count": 6,
     "metadata": {},
     "output_type": "execute_result"
    }
   ],
   "source": [
    "# Converted list to array\n",
    "star_list = y.to_numpy()\n",
    "star_list"
   ]
  },
  {
   "cell_type": "code",
   "execution_count": 7,
   "id": "2f0820b8",
   "metadata": {},
   "outputs": [
    {
     "data": {
      "text/plain": [
       "1.96"
      ]
     },
     "execution_count": 7,
     "metadata": {},
     "output_type": "execute_result"
    }
   ],
   "source": [
    "# Find average rating\n",
    "avg_stars = sum(y)/len(y)\n",
    "avg_stars"
   ]
  },
  {
   "cell_type": "code",
   "execution_count": 8,
   "id": "a6261109",
   "metadata": {},
   "outputs": [
    {
     "data": {
      "text/plain": [
       "0.4053720283474719"
      ]
     },
     "execution_count": 8,
     "metadata": {},
     "output_type": "execute_result"
    }
   ],
   "source": [
    "# Find the skew of the ratings\n",
    "y.skew()"
   ]
  },
  {
   "cell_type": "code",
   "execution_count": 9,
   "id": "59574ed5",
   "metadata": {},
   "outputs": [
    {
     "data": {
      "image/png": "[encoded data removed]",
      "text/plain": [
       "<Figure size 432x288 with 1 Axes>"
      ]
     },
     "metadata": {
      "needs_background": "light"
     },
     "output_type": "display_data"
    }
   ],
   "source": [
    "# Plot rating distribution\n",
    "H = pl.hist(y,bins=[1,1.5,2,2.5,3,3.5,4,4.5])     \n",
    "plt.xlabel('Yelp Stars')\n",
    "plt.ylabel('Number of Franchises')\n",
    "plt.title('McDonalds rating across North America')\n",
    "pl.show()                  "
   ]
  },
  {
   "cell_type": "code",
   "execution_count": 10,
   "id": "c461299b",
   "metadata": {},
   "outputs": [
    {
     "name": "stdout",
     "output_type": "stream",
     "text": [
      "Statistics=0.909, p=0.000\n",
      "Sample does not look Gaussian (reject H0)\n"
     ]
    }
   ],
   "source": [
    "# Shapiro Test at alpha 5%\n",
    "from scipy.stats import shapiro\n",
    "# normality test\n",
    "stat, p = shapiro(star_list)\n",
    "print('Statistics=%.3f, p=%.3f' % (stat, p))\n",
    "# interpret\n",
    "alpha = 0.05\n",
    "if p > alpha:\n",
    "\tprint('Sample looks Gaussian (fail to reject H0)')\n",
    "else:\n",
    "\tprint('Sample does not look Gaussian (reject H0)')"
   ]
  },
  {
   "cell_type": "code",
   "execution_count": 11,
   "id": "d582b4d6",
   "metadata": {},
   "outputs": [
    {
     "name": "stdout",
     "output_type": "stream",
     "text": [
      "Statistics=0.909, p=0.000\n",
      "Sample does not look Gaussian (reject H0)\n"
     ]
    }
   ],
   "source": [
    "# Shapiro Test at alpha 1%\n",
    "from scipy.stats import shapiro\n",
    "# normality test\n",
    "stat, p = shapiro(star_list)\n",
    "print('Statistics=%.3f, p=%.3f' % (stat, p))\n",
    "# interpret\n",
    "alpha = 0.01\n",
    "if p > alpha:\n",
    "\tprint('Sample looks Gaussian (fail to reject H0)')\n",
    "else:\n",
    "\tprint('Sample does not look Gaussian (reject H0)')"
   ]
  },
  {
   "cell_type": "code",
   "execution_count": 12,
   "id": "94712600",
   "metadata": {},
   "outputs": [
    {
     "name": "stdout",
     "output_type": "stream",
     "text": [
      "Statistics=13.684, p=0.001\n",
      "Sample does not look Gaussian (reject H0)\n"
     ]
    }
   ],
   "source": [
    "# D'Agostino and Pearson's Test at alpha 5%\n",
    "from scipy.stats import normaltest\n",
    "stat, p = normaltest(y)\n",
    "print('Statistics=%.3f, p=%.3f' % (stat, p))\n",
    "# interpret\n",
    "alpha = 0.05\n",
    "if p > alpha:\n",
    "\tprint('Sample looks Gaussian (fail to reject H0)')\n",
    "else:\n",
    "\tprint('Sample does not look Gaussian (reject H0)')"
   ]
  },
  {
   "cell_type": "code",
   "execution_count": 13,
   "id": "23af4fbf",
   "metadata": {},
   "outputs": [
    {
     "name": "stdout",
     "output_type": "stream",
     "text": [
      "Statistics=13.684, p=0.001\n",
      "Sample does not look Gaussian (reject H0)\n"
     ]
    }
   ],
   "source": [
    "# D'Agostino and Pearson's Test at alpha 1%\n",
    "from scipy.stats import normaltest\n",
    "stat, p = normaltest(y)\n",
    "print('Statistics=%.3f, p=%.3f' % (stat, p))\n",
    "# interpret\n",
    "alpha = 0.01\n",
    "if p > alpha:\n",
    "\tprint('Sample looks Gaussian (fail to reject H0)')\n",
    "else:\n",
    "\tprint('Sample does not look Gaussian (reject H0)')"
   ]
  },
  {
   "cell_type": "code",
   "execution_count": 14,
   "id": "0cce844a",
   "metadata": {},
   "outputs": [
    {
     "name": "stdout",
     "output_type": "stream",
     "text": [
      "Statistic: 21.659\n",
      "15.000: 0.572, data does not look normal (reject H0)\n",
      "10.000: 0.651, data does not look normal (reject H0)\n",
      "5.000: 0.781, data does not look normal (reject H0)\n",
      "2.500: 0.911, data does not look normal (reject H0)\n",
      "1.000: 1.084, data does not look normal (reject H0)\n"
     ]
    }
   ],
   "source": [
    "# Anderson-Darling Test at alpha 5%\n",
    "from scipy.stats import anderson\n",
    "result = anderson(y)\n",
    "print('Statistic: %.3f' % result.statistic)\n",
    "p = 0\n",
    "for i in range(len(result.critical_values)):\n",
    "\tsl, cv = result.significance_level[i], result.critical_values[i]\n",
    "\tif result.statistic < result.critical_values[i]:\n",
    "\t\tprint('%.3f: %.3f, data looks normal (fail to reject H0)' % (sl, cv))\n",
    "\telse:\n",
    "\t\tprint('%.3f: %.3f, data does not look normal (reject H0)' % (sl, cv))"
   ]
  },
  {
   "cell_type": "code",
   "execution_count": 15,
   "id": "08c988cf",
   "metadata": {},
   "outputs": [
    {
     "name": "stdout",
     "output_type": "stream",
     "text": [
      "Statistic: 21.659\n",
      "15.000: 0.572, data does not look normal (reject H0)\n",
      "10.000: 0.651, data does not look normal (reject H0)\n",
      "5.000: 0.781, data does not look normal (reject H0)\n",
      "2.500: 0.911, data does not look normal (reject H0)\n",
      "1.000: 1.084, data does not look normal (reject H0)\n"
     ]
    }
   ],
   "source": [
    "# Anderson-Darling Test at alpha 1%\n",
    "from scipy.stats import anderson\n",
    "result = anderson(y)\n",
    "print('Statistic: %.3f' % result.statistic)\n",
    "p = 0\n",
    "for i in range(len(result.critical_values)):\n",
    "\tsl, cv = result.significance_level[i], result.critical_values[i]\n",
    "\tif result.statistic < result.critical_values[i]:\n",
    "\t\tprint('%.3f: %.3f, data looks normal (fail to reject H0)' % (sl, cv))\n",
    "\telse:\n",
    "\t\tprint('%.3f: %.3f, data does not look normal (reject H0)' % (sl, cv))"
   ]
  },
  {
   "cell_type": "code",
   "execution_count": 74,
   "id": "1ffa2be4",
   "metadata": {},
   "outputs": [
    {
     "data": {
      "text/plain": [
       "[2.5,\n",
       " 1.85,\n",
       " 1.9,\n",
       " 1.995,\n",
       " 1.9866666666666666,\n",
       " 1.88,\n",
       " 1.912,\n",
       " 1.91,\n",
       " 1.95,\n",
       " 1.90375,\n",
       " 1.9722222222222223,\n",
       " 1.951,\n",
       " 1.9647619047619047]"
      ]
     },
     "execution_count": 74,
     "metadata": {},
     "output_type": "execute_result"
    }
   ],
   "source": [
    "# number of sample\n",
    "num = [1, 10, 50, 100,150,200,250,300,350,400,450,500,525] \n",
    "# list of sample means\n",
    "means = [] \n",
    " \n",
    "for j in num:\n",
    "    x = np.mean(\n",
    "        random.choices(\n",
    "            star_list, k= j))\n",
    "    means.append(x)\n",
    "means"
   ]
  },
  {
   "cell_type": "code",
   "execution_count": 115,
   "id": "75f3ff1f",
   "metadata": {},
   "outputs": [
    {
     "data": {
      "text/plain": [
       "Text(0.5, 1.0, 'Rating Convergence')"
      ]
     },
     "execution_count": 115,
     "metadata": {},
     "output_type": "execute_result"
    },
    {
     "data": {
      "image/png": "[encoded data removed]",
      "text/plain": [
       "<Figure size 432x288 with 1 Axes>"
      ]
     },
     "metadata": {
      "needs_background": "light"
     },
     "output_type": "display_data"
    }
   ],
   "source": [
    "# Plot ratings convergence for Central Limit Theorem\n",
    "newPlot = pd.DataFrame(means, index=num)\n",
    "newPlot.plot()\n",
    "plt.xlabel('Number of Chains')\n",
    "plt.ylabel('Rating Average')\n",
    "plt.title('Rating Convergence')"
   ]
  },
  {
   "cell_type": "code",
   "execution_count": 13,
   "id": "743d428f",
   "metadata": {},
   "outputs": [
    {
     "data": {
      "text/plain": [
       "-0.04598416715628817"
      ]
     },
     "execution_count": 13,
     "metadata": {},
     "output_type": "execute_result"
    }
   ],
   "source": [
    "# Kurtosis of ratings\n",
    "y.kurtosis()"
   ]
  },
  {
   "cell_type": "code",
   "execution_count": 44,
   "id": "4dc6bdac",
   "metadata": {},
   "outputs": [],
   "source": [
    "new = normalize(star_list,0,1)"
   ]
  },
  {
   "cell_type": "code",
   "execution_count": 45,
   "id": "fef8b96c",
   "metadata": {},
   "outputs": [
    {
     "data": {
      "text/plain": [
       "6.090738426209817"
      ]
     },
     "execution_count": 45,
     "metadata": {},
     "output_type": "execute_result"
    }
   ],
   "source": [
    "# Find entropy of normalized dataset\n",
    "stats.entropy(new)"
   ]
  },
  {
   "cell_type": "code",
   "execution_count": 51,
   "id": "430c6673",
   "metadata": {},
   "outputs": [],
   "source": [
    "first = np.random.choice(star_list, replace = False, size = 1)\n",
    "ten = np.random.choice(star_list, replace = False, size = 10)\n",
    "fifty = np.random.choice(star_list, replace = False, size = 50)\n",
    "hundred = np.random.choice(star_list, replace = False, size = 100)\n",
    "onefifty = np.random.choice(star_list, replace = False, size = 150)\n",
    "twohundred = np.random.choice(star_list, replace = False, size = 200)\n",
    "twofifty = np.random.choice(star_list, replace = False, size = 250)\n",
    "threehundred = np.random.choice(star_list, replace = False, size = 300)\n",
    "threefifty= np.random.choice(star_list, replace = False, size = 350)\n",
    "fourhundredv = np.random.choice(star_list, replace = False, size = 400)\n",
    "fourfifty = np.random.choice(star_list, replace = False, size = 450)\n",
    "fivehundred = np.random.choice(star_list, replace = False, size = 500)\n",
    "totals = np.random.choice(star_list, replace = False, size = 525)"
   ]
  },
  {
   "cell_type": "code",
   "execution_count": 70,
   "id": "3b79031a",
   "metadata": {},
   "outputs": [
    {
     "data": {
      "text/plain": [
       "0.277447619047619"
      ]
     },
     "execution_count": 70,
     "metadata": {},
     "output_type": "execute_result"
    }
   ],
   "source": [
    "np.var(totals)"
   ]
  },
  {
   "cell_type": "code",
   "execution_count": 72,
   "id": "888bc5bf",
   "metadata": {},
   "outputs": [],
   "source": [
    "var = [0,0.11,0.21,0.29475,0.26023,0.2451,0.282516,0.2766972,0.2773387744102041,0.2812109375,0.27442098765432105,0.275236\n",
    ",0.277447619047619]"
   ]
  },
  {
   "cell_type": "code",
   "execution_count": 76,
   "id": "718f2b3a",
   "metadata": {},
   "outputs": [
    {
     "data": {
      "text/plain": [
       "Text(0.5, 1.0, 'Variance')"
      ]
     },
     "execution_count": 76,
     "metadata": {},
     "output_type": "execute_result"
    },
    {
     "data": {
      "image/png": "[encoded data removed]",
      "text/plain": [
       "<Figure size 432x288 with 1 Axes>"
      ]
     },
     "metadata": {
      "needs_background": "light"
     },
     "output_type": "display_data"
    }
   ],
   "source": [
    "# Plot bootstrapped variance estimator\n",
    "newPlot = pd.DataFrame(var, index=num)\n",
    "newPlot.plot()\n",
    "plt.xlabel('Bootstrap Size')\n",
    "plt.ylabel('Bootstrap Variance')\n",
    "plt.title('Variance')"
   ]
  }
 ],
 "metadata": {
  "kernelspec": {
   "display_name": "Python 3 (ipykernel)",
   "language": "python",
   "name": "python3"
  },
  "language_info": {
   "codemirror_mode": {
    "name": "ipython",
    "version": 3
   },
   "file_extension": ".py",
   "mimetype": "text/x-python",
   "name": "python",
   "nbconvert_exporter": "python",
   "pygments_lexer": "ipython3",
   "version": "3.9.7"
  }
 },
 "nbformat": 4,
 "nbformat_minor": 5
}
